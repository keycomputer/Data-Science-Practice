{
 "cells": [
  {
   "cell_type": "code",
   "execution_count": null,
   "metadata": {},
   "outputs": [],
   "source": [
    "!pip install pandas"
   ]
  },
  {
   "cell_type": "code",
   "execution_count": 1,
   "metadata": {},
   "outputs": [],
   "source": [
    "\n",
    "import pandas as pd\n",
    "import numpy as np"
   ]
  },
  {
   "cell_type": "code",
   "execution_count": 24,
   "metadata": {},
   "outputs": [
    {
     "name": "stdout",
     "output_type": "stream",
     "text": [
      "  person name   credit score   income   age  loan approved?       log\n",
      "0         rob            750    80000    32               y  4.903090\n",
      "1         tom            310    32000    45               N  4.505150\n",
      "2          Xi            475    77000    33               Y  4.886491\n",
      "3       Mohan            600    65000    51               N  4.812913\n",
      "4       Pooja            820   550000    35               Y  5.740363\n",
      "5      Sofiya            780    75000    31               Y  4.875061\n",
      "Index(['person name', 'credit score', 'income', 'age', 'loan approved?',\n",
      "       'log'],\n",
      "      dtype='object')\n",
      "RangeIndex(start=0, stop=6, step=1)\n"
     ]
    }
   ],
   "source": [
    "df = pd.read_csv(\"income.csv\")\n",
    "print(df)\n",
    "\n",
    "df.columns = [ i.strip() for i in df.columns ]\n",
    "print(df.columns)\n",
    "print(df.index)"
   ]
  },
  {
   "cell_type": "code",
   "execution_count": 25,
   "metadata": {},
   "outputs": [
    {
     "name": "stdout",
     "output_type": "stream",
     "text": [
      "count         6.000000\n",
      "mean     146500.000000\n",
      "std      198458.811848\n",
      "min       32000.000000\n",
      "25%       67500.000000\n",
      "50%       76000.000000\n",
      "75%       79250.000000\n",
      "max      550000.000000\n",
      "Name: income, dtype: float64\n"
     ]
    }
   ],
   "source": [
    "#df = pd.read_csv(\"income.csv\", skiprows=[0], names=[\"name,\"income\",\"a\",\"b\",\"rating\"])\n",
    "#print(df)\n",
    "print(df.income.describe())"
   ]
  },
  {
   "cell_type": "code",
   "execution_count": 3,
   "metadata": {},
   "outputs": [
    {
     "name": "stdout",
     "output_type": "stream",
     "text": [
      "76000.0\n"
     ]
    }
   ],
   "source": [
    "print(df.income.quantile())"
   ]
  },
  {
   "cell_type": "code",
   "execution_count": 4,
   "metadata": {},
   "outputs": [
    {
     "name": "stdout",
     "output_type": "stream",
     "text": [
      "76000.0\n",
      "67500.0\n",
      "32000.0\n",
      "79250.0\n",
      "550000.0\n"
     ]
    }
   ],
   "source": [
    "print(df.income.quantile(0.50))\n",
    "print(df.income.quantile(0.25))\n",
    "print(df.income.quantile(0))\n",
    "print(df.income.quantile(0.75))\n",
    "print(df.income.quantile(1))\n",
    "\n",
    "\n"
   ]
  },
  {
   "cell_type": "code",
   "execution_count": 7,
   "metadata": {},
   "outputs": [
    {
     "name": "stdout",
     "output_type": "stream",
     "text": [
      "77000\n",
      "75000\n",
      "32000\n",
      "80000\n",
      "550000\n"
     ]
    }
   ],
   "source": [
    "print(df.income.quantile(0.50, interpolation=\"higher\"))\n",
    "print(df.income.quantile(0.25, interpolation=\"higher\"))\n",
    "print(df.income.quantile(0, interpolation=\"higher\"))\n",
    "print(df.income.quantile(0.75, interpolation=\"higher\"))\n",
    "print(df.income.quantile(1, interpolation=\"higher\"))"
   ]
  },
  {
   "cell_type": "code",
   "execution_count": 9,
   "metadata": {},
   "outputs": [
    {
     "name": "stdout",
     "output_type": "stream",
     "text": [
      "        name  income   a   b    rating\n",
      "rob      750   80000  32   y  4.903090\n",
      "tom      310   32000  45   N  4.505150\n",
      "Xi       475   77000  33   Y  4.886491\n",
      "Mohan    600   65000  51   N  4.812913\n",
      "Sofiya   780   75000  31   Y  4.875061\n"
     ]
    }
   ],
   "source": [
    "outlier = df.income.quantile(0.99)\n",
    "df_nooutlier = df[df.income<=outlier]\n",
    "print(df_nooutlier)"
   ]
  },
  {
   "cell_type": "code",
   "execution_count": 15,
   "metadata": {},
   "outputs": [
    {
     "name": "stdout",
     "output_type": "stream",
     "text": [
      "        name    income   a   b    rating\n",
      "rob      750   80000.0  32   y  4.903090\n",
      "tom      310   32000.0  45   N  4.505150\n",
      "Xi       475   77000.0  33   Y  4.886491\n",
      "Mohan    600   65000.0  51   N  4.812913\n",
      "Pooja    820  550000.0  35   Y  5.740363\n",
      "Sofiya   780       NaN  31   Y  4.875061\n",
      "        name    income   a   b    rating\n",
      "rob      750   80000.0  32   y  4.903090\n",
      "tom      310   32000.0  45   N  4.505150\n",
      "Xi       475   77000.0  33   Y  4.886491\n",
      "Mohan    600   65000.0  51   N  4.812913\n",
      "Pooja    820  550000.0  35   Y  5.740363\n",
      "Sofiya   780       NaN  31   Y  4.875061\n"
     ]
    }
   ],
   "source": [
    "# fill nan \n",
    "df['income']['Sofiya'] = np.nan\n",
    "print(df)\n",
    "df.fillna(df.income.mean())\n",
    "print(df)"
   ]
  },
  {
   "cell_type": "code",
   "execution_count": 1,
   "metadata": {},
   "outputs": [],
   "source": [
    "import pandas as pd\n",
    "import numpy as np"
   ]
  },
  {
   "cell_type": "code",
   "execution_count": 3,
   "metadata": {},
   "outputs": [
    {
     "name": "stdout",
     "output_type": "stream",
     "text": [
      "             id                                               name   host_id  \\\n",
      "0          2539                 Clean & quiet apt home by the park      2787   \n",
      "1          2595                              Skylit Midtown Castle      2845   \n",
      "2          3647                THE VILLAGE OF HARLEM....NEW YORK !      4632   \n",
      "3          3831                    Cozy Entire Floor of Brownstone      4869   \n",
      "4          5022   Entire Apt: Spacious Studio/Loft by central park      7192   \n",
      "...         ...                                                ...       ...   \n",
      "48890  36484665    Charming one bedroom - newly renovated rowhouse   8232441   \n",
      "48891  36485057      Affordable room in Bushwick/East Williamsburg   6570630   \n",
      "48892  36485431            Sunny Studio at Historical Neighborhood  23492952   \n",
      "48893  36485609               43rd St. Time Square-cozy single bed  30985759   \n",
      "48894  36487245  Trendy duplex in the very heart of Hell's Kitchen  68119814   \n",
      "\n",
      "           host_name neighbourhood_group       neighbourhood  latitude  \\\n",
      "0               John            Brooklyn          Kensington  40.64749   \n",
      "1           Jennifer           Manhattan             Midtown  40.75362   \n",
      "2          Elisabeth           Manhattan              Harlem  40.80902   \n",
      "3        LisaRoxanne            Brooklyn        Clinton Hill  40.68514   \n",
      "4              Laura           Manhattan         East Harlem  40.79851   \n",
      "...              ...                 ...                 ...       ...   \n",
      "48890        Sabrina            Brooklyn  Bedford-Stuyvesant  40.67853   \n",
      "48891        Marisol            Brooklyn            Bushwick  40.70184   \n",
      "48892  Ilgar & Aysel           Manhattan              Harlem  40.81475   \n",
      "48893            Taz           Manhattan      Hell's Kitchen  40.75751   \n",
      "48894     Christophe           Manhattan      Hell's Kitchen  40.76404   \n",
      "\n",
      "       longitude        room_type  price  minimum_nights  number_of_reviews  \\\n",
      "0      -73.97237     Private room    149               1                  9   \n",
      "1      -73.98377  Entire home/apt    225               1                 45   \n",
      "2      -73.94190     Private room    150               3                  0   \n",
      "3      -73.95976  Entire home/apt     89               1                270   \n",
      "4      -73.94399  Entire home/apt     80              10                  9   \n",
      "...          ...              ...    ...             ...                ...   \n",
      "48890  -73.94995     Private room     70               2                  0   \n",
      "48891  -73.93317     Private room     40               4                  0   \n",
      "48892  -73.94867  Entire home/apt    115              10                  0   \n",
      "48893  -73.99112      Shared room     55               1                  0   \n",
      "48894  -73.98933     Private room     90               7                  0   \n",
      "\n",
      "      last_review  reviews_per_month  calculated_host_listings_count  \\\n",
      "0      2018-10-19               0.21                               6   \n",
      "1      2019-05-21               0.38                               2   \n",
      "2             NaN                NaN                               1   \n",
      "3      2019-07-05               4.64                               1   \n",
      "4      2018-11-19               0.10                               1   \n",
      "...           ...                ...                             ...   \n",
      "48890         NaN                NaN                               2   \n",
      "48891         NaN                NaN                               2   \n",
      "48892         NaN                NaN                               1   \n",
      "48893         NaN                NaN                               6   \n",
      "48894         NaN                NaN                               1   \n",
      "\n",
      "       availability_365  \n",
      "0                   365  \n",
      "1                   355  \n",
      "2                   365  \n",
      "3                   194  \n",
      "4                     0  \n",
      "...                 ...  \n",
      "48890                 9  \n",
      "48891                36  \n",
      "48892                27  \n",
      "48893                 2  \n",
      "48894                23  \n",
      "\n",
      "[48895 rows x 16 columns]\n"
     ]
    }
   ],
   "source": [
    "df = pd.read_csv(\"AB_NYC_2019.csv\")\n",
    "print(df)"
   ]
  },
  {
   "cell_type": "code",
   "execution_count": 5,
   "metadata": {},
   "outputs": [
    {
     "name": "stdout",
     "output_type": "stream",
     "text": [
      "count    48895.000000\n",
      "mean       152.720687\n",
      "std        240.154170\n",
      "min          0.000000\n",
      "25%         69.000000\n",
      "50%        106.000000\n",
      "75%        175.000000\n",
      "max      10000.000000\n",
      "Name: price, dtype: float64\n"
     ]
    }
   ],
   "source": [
    "print(df.price.describe())"
   ]
  },
  {
   "cell_type": "code",
   "execution_count": 6,
   "metadata": {},
   "outputs": [
    {
     "name": "stdout",
     "output_type": "stream",
     "text": [
      "0.0\n",
      "69.0\n",
      "106.0\n",
      "175.0\n",
      "10000.0\n",
      "269.0\n"
     ]
    }
   ],
   "source": [
    "print(df.price.quantile(0))\n",
    "print(df.price.quantile(0.25))\n",
    "print(df.price.quantile(0.50))\n",
    "print(df.price.quantile(0.75))\n",
    "print(df.price.quantile(1))\n",
    "print(df.price.quantile(0.90))"
   ]
  },
  {
   "cell_type": "code",
   "execution_count": 7,
   "metadata": {},
   "outputs": [
    {
     "name": "stdout",
     "output_type": "stream",
     "text": [
      "0\n",
      "69\n",
      "106\n",
      "175\n",
      "10000\n",
      "269\n"
     ]
    }
   ],
   "source": [
    "print(df.price.quantile(0, interpolation=\"higher\"))\n",
    "print(df.price.quantile(0.25, interpolation=\"higher\"))\n",
    "print(df.price.quantile(0.50, interpolation=\"higher\"))\n",
    "print(df.price.quantile(0.75, interpolation=\"higher\"))\n",
    "print(df.price.quantile(1, interpolation=\"higher\"))\n",
    "print(df.price.quantile(0.90, interpolation=\"higher\"))"
   ]
  },
  {
   "cell_type": "code",
   "execution_count": 8,
   "metadata": {},
   "outputs": [
    {
     "name": "stdout",
     "output_type": "stream",
     "text": [
      "Empty DataFrame\n",
      "Columns: [id, name, host_id, host_name, neighbourhood_group, neighbourhood, latitude, longitude, room_type, price, minimum_nights, number_of_reviews, last_review, reviews_per_month, calculated_host_listings_count, availability_365]\n",
      "Index: []\n"
     ]
    }
   ],
   "source": [
    "print(df[df.price == np.nan])"
   ]
  },
  {
   "cell_type": "code",
   "execution_count": 15,
   "metadata": {},
   "outputs": [
    {
     "name": "stdout",
     "output_type": "stream",
     "text": [
      "             id                                               name   host_id  \\\n",
      "0          2539                 Clean & quiet apt home by the park      2787   \n",
      "1          2595                              Skylit Midtown Castle      2845   \n",
      "2          3647                THE VILLAGE OF HARLEM....NEW YORK !      4632   \n",
      "3          3831                    Cozy Entire Floor of Brownstone      4869   \n",
      "4          5022   Entire Apt: Spacious Studio/Loft by central park      7192   \n",
      "...         ...                                                ...       ...   \n",
      "48890  36484665    Charming one bedroom - newly renovated rowhouse   8232441   \n",
      "48891  36485057      Affordable room in Bushwick/East Williamsburg   6570630   \n",
      "48892  36485431            Sunny Studio at Historical Neighborhood  23492952   \n",
      "48893  36485609               43rd St. Time Square-cozy single bed  30985759   \n",
      "48894  36487245  Trendy duplex in the very heart of Hell's Kitchen  68119814   \n",
      "\n",
      "           host_name neighbourhood_group       neighbourhood  latitude  \\\n",
      "0               John            Brooklyn          Kensington  40.64749   \n",
      "1           Jennifer           Manhattan             Midtown  40.75362   \n",
      "2          Elisabeth           Manhattan              Harlem  40.80902   \n",
      "3        LisaRoxanne            Brooklyn        Clinton Hill  40.68514   \n",
      "4              Laura           Manhattan         East Harlem  40.79851   \n",
      "...              ...                 ...                 ...       ...   \n",
      "48890        Sabrina            Brooklyn  Bedford-Stuyvesant  40.67853   \n",
      "48891        Marisol            Brooklyn            Bushwick  40.70184   \n",
      "48892  Ilgar & Aysel           Manhattan              Harlem  40.81475   \n",
      "48893            Taz           Manhattan      Hell's Kitchen  40.75751   \n",
      "48894     Christophe           Manhattan      Hell's Kitchen  40.76404   \n",
      "\n",
      "       longitude        room_type  price  minimum_nights  number_of_reviews  \\\n",
      "0      -73.97237     Private room    149               1                  9   \n",
      "1      -73.98377  Entire home/apt    225               1                 45   \n",
      "2      -73.94190     Private room    150               3                  0   \n",
      "3      -73.95976  Entire home/apt     89               1                270   \n",
      "4      -73.94399  Entire home/apt     80              10                  9   \n",
      "...          ...              ...    ...             ...                ...   \n",
      "48890  -73.94995     Private room     70               2                  0   \n",
      "48891  -73.93317     Private room     40               4                  0   \n",
      "48892  -73.94867  Entire home/apt    115              10                  0   \n",
      "48893  -73.99112      Shared room     55               1                  0   \n",
      "48894  -73.98933     Private room     90               7                  0   \n",
      "\n",
      "      last_review  reviews_per_month  calculated_host_listings_count  \\\n",
      "0      2018-10-19               0.21                               6   \n",
      "1      2019-05-21               0.38                               2   \n",
      "2             NaN                NaN                               1   \n",
      "3      2019-07-05               4.64                               1   \n",
      "4      2018-11-19               0.10                               1   \n",
      "...           ...                ...                             ...   \n",
      "48890         NaN                NaN                               2   \n",
      "48891         NaN                NaN                               2   \n",
      "48892         NaN                NaN                               1   \n",
      "48893         NaN                NaN                               6   \n",
      "48894         NaN                NaN                               1   \n",
      "\n",
      "       availability_365  \n",
      "0                   365  \n",
      "1                   355  \n",
      "2                   365  \n",
      "3                   194  \n",
      "4                     0  \n",
      "...                 ...  \n",
      "48890                 9  \n",
      "48891                36  \n",
      "48892                27  \n",
      "48893                 2  \n",
      "48894                23  \n",
      "\n",
      "[48403 rows x 16 columns]\n"
     ]
    }
   ],
   "source": [
    "outlier1 = df.price.quantile(0.99)\n",
    "outlier2 = df.price.quantile(0.01)\n",
    "df_no = df[df.price>outlier2]\n",
    "df_no = df[df.price <outlier1]\n",
    "print(df_no)"
   ]
  },
  {
   "cell_type": "code",
   "execution_count": null,
   "metadata": {},
   "outputs": [],
   "source": []
  }
 ],
 "metadata": {
  "kernelspec": {
   "display_name": "Python 3 (ipykernel)",
   "language": "python",
   "name": "python3"
  },
  "language_info": {
   "codemirror_mode": {
    "name": "ipython",
    "version": 3
   },
   "file_extension": ".py",
   "mimetype": "text/x-python",
   "name": "python",
   "nbconvert_exporter": "python",
   "pygments_lexer": "ipython3",
   "version": "3.9.13"
  }
 },
 "nbformat": 4,
 "nbformat_minor": 2
}
