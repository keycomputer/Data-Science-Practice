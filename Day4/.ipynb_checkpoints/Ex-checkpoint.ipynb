{
 "cells": [
  {
   "cell_type": "markdown",
   "id": "54ae6be8",
   "metadata": {},
   "source": [
    "# Exercise: Outlier removal using standard deviation and z score"
   ]
  },
  {
   "cell_type": "code",
   "execution_count": 1,
   "id": "5b76ea10",
   "metadata": {},
   "outputs": [],
   "source": [
    "import pandas as pd\n",
    "import seaborn as sn"
   ]
  },
  {
   "cell_type": "markdown",
   "id": "abc43ca0",
   "metadata": {},
   "source": [
    "You are given bhp.csv which contains property prices in the city of banglore, India. You need to examine price_per_sqft column and do following,\n",
    "\n",
    "(1) Remove outliers using percentile technique first. Use [0.001, 0.999] for lower and upper bound percentiles\n",
    "\n",
    "(2) After removing outliers in step 1, you get a new dataframe.\n",
    "\n",
    "(3) On step(2) dataframe, use 4 standard deviation to remove outliers\n",
    "\n",
    "(4) Plot histogram for new dataframe that is generated after step (3). Also plot bell curve on same histogram\n",
    "\n",
    "(5) On step(2) dataframe, use zscore of 4 to remove outliers. This is quite similar to step (3) and you will get exact same result"
   ]
  },
  {
   "cell_type": "code",
   "execution_count": 3,
   "id": "49d964f4",
   "metadata": {},
   "outputs": [
    {
     "name": "stdout",
     "output_type": "stream",
     "text": [
      "                   location       size  total_sqft  bath   price  bhk  \\\n",
      "0  Electronic City Phase II      2 BHK      1056.0   2.0   39.07    2   \n",
      "1          Chikka Tirupathi  4 Bedroom      2600.0   5.0  120.00    4   \n",
      "2               Uttarahalli      3 BHK      1440.0   2.0   62.00    3   \n",
      "3        Lingadheeranahalli      3 BHK      1521.0   3.0   95.00    3   \n",
      "4                  Kothanur      2 BHK      1200.0   2.0   51.00    2   \n",
      "\n",
      "   price_per_sqft  \n",
      "0            3699  \n",
      "1            4615  \n",
      "2            4305  \n",
      "3            6245  \n",
      "4            4250  \n"
     ]
    }
   ],
   "source": [
    "df= pd.read_csv(\"bhp.csv\")\n",
    "print(df.head())"
   ]
  },
  {
   "cell_type": "code",
   "execution_count": 6,
   "id": "79829346",
   "metadata": {},
   "outputs": [
    {
     "name": "stdout",
     "output_type": "stream",
     "text": [
      "count    1.320000e+04\n",
      "mean     7.920337e+03\n",
      "std      1.067272e+05\n",
      "min      2.670000e+02\n",
      "25%      4.267000e+03\n",
      "50%      5.438000e+03\n",
      "75%      7.317000e+03\n",
      "max      1.200000e+07\n",
      "Name: price_per_sqft, dtype: float64\n"
     ]
    }
   ],
   "source": [
    "print(df.price_per_sqft.describe())"
   ]
  },
  {
   "cell_type": "markdown",
   "id": "5346705e",
   "metadata": {},
   "source": [
    "Above, you can see max is 12000000, which is too much price for price per sqft. Looks like this dataset has some very bad outliers so we will first remove those with percentile and then use z score"
   ]
  },
  {
   "cell_type": "code",
   "execution_count": 9,
   "id": "b828eaa9",
   "metadata": {},
   "outputs": [
    {
     "data": {
      "text/plain": [
       "<AxesSubplot:xlabel='price_per_sqft', ylabel='Count'>"
      ]
     },
     "execution_count": 9,
     "metadata": {},
     "output_type": "execute_result"
    },
    {
     "data": {
      "image/png": "[encoded data removed]",
      "text/plain": [
       "<Figure size 640x480 with 1 Axes>"
      ]
     },
     "metadata": {},
     "output_type": "display_data"
    }
   ],
   "source": [
    "sn.histplot(df.price_per_sqft, kde=True)"
   ]
  },
  {
   "cell_type": "code",
   "execution_count": 10,
   "id": "fa2eefa5",
   "metadata": {},
   "outputs": [
    {
     "name": "stdout",
     "output_type": "stream",
     "text": [
      "1366.184 50959.36200000098\n"
     ]
    }
   ],
   "source": [
    "#1.outlierspercentile\n",
    "lowerlimit,upperlimit=df.price_per_sqft.quantile([0.001,0.999])\n",
    "print(lowerlimit,upperlimit)"
   ]
  },
  {
   "cell_type": "code",
   "execution_count": 21,
   "id": "c76e66e0",
   "metadata": {},
   "outputs": [
    {
     "name": "stdout",
     "output_type": "stream",
     "text": [
      "       location       size  total_sqft  bath  price  bhk  price_per_sqft\n",
      "345       other  3 Bedroom        11.0   3.0   74.0    3          672727\n",
      "665   Yelahanka      3 BHK     35000.0   3.0  130.0    3             371\n",
      "798       other  4 Bedroom     10961.0   4.0   80.0    4             729\n",
      "1005      other      1 BHK        15.0   1.0   30.0    1          200000\n",
      "1106      other  5 Bedroom        24.0   2.0  150.0    5          625000\n",
      "(28, 7)\n"
     ]
    }
   ],
   "source": [
    "outliers=df[(df.price_per_sqft>upperlimit)|(df.price_per_sqft<lowerlimit)]\n",
    "print(outliers.head())\n",
    "print(outliers.shape)"
   ]
  },
  {
   "cell_type": "code",
   "execution_count": 22,
   "id": "3b587488",
   "metadata": {},
   "outputs": [
    {
     "name": "stdout",
     "output_type": "stream",
     "text": [
      "(13172, 7)\n"
     ]
    }
   ],
   "source": [
    "nooutliers=df[(df.price_per_sqft<upperlimit)&(df.price_per_sqft>lowerlimit)]\n",
    "print(nooutliers.shape)"
   ]
  },
  {
   "cell_type": "code",
   "execution_count": 24,
   "id": "af69163c",
   "metadata": {},
   "outputs": [
    {
     "name": "stdout",
     "output_type": "stream",
     "text": [
      "28\n"
     ]
    }
   ],
   "source": [
    "print(df.shape[0]-nooutliers.shape[0])\n"
   ]
  },
  {
   "cell_type": "code",
   "execution_count": 26,
   "id": "cee523a9",
   "metadata": {},
   "outputs": [
    {
     "name": "stdout",
     "output_type": "stream",
     "text": [
      "-9900.429065502549 23227.73653589429\n"
     ]
    }
   ],
   "source": [
    "#2.outliersusingstandardeviation(4)\n",
    "df2=nooutliers\n",
    "minlimit=df2.price_per_sqft.mean()-4*df2.price_per_sqft.std()\n",
    "maxlimit=df2.price_per_sqft.mean()+4*df2.price_per_sqft.std()\n",
    "print(minlimit,maxlimit)"
   ]
  },
  {
   "cell_type": "code",
   "execution_count": 27,
   "id": "9e5dfd88",
   "metadata": {},
   "outputs": [
    {
     "data": {
      "text/html": [
       "<div>\n",
       "<style scoped>\n",
       "    .dataframe tbody tr th:only-of-type {\n",
       "        vertical-align: middle;\n",
       "    }\n",
       "\n",
       "    .dataframe tbody tr th {\n",
       "        vertical-align: top;\n",
       "    }\n",
       "\n",
       "    .dataframe thead th {\n",
       "        text-align: right;\n",
       "    }\n",
       "</style>\n",
       "<table border=\"1\" class=\"dataframe\">\n",
       "  <thead>\n",
       "    <tr style=\"text-align: right;\">\n",
       "      <th></th>\n",
       "      <th>location</th>\n",
       "      <th>size</th>\n",
       "      <th>total_sqft</th>\n",
       "      <th>bath</th>\n",
       "      <th>price</th>\n",
       "      <th>bhk</th>\n",
       "      <th>price_per_sqft</th>\n",
       "    </tr>\n",
       "  </thead>\n",
       "  <tbody>\n",
       "    <tr>\n",
       "      <th>9</th>\n",
       "      <td>other</td>\n",
       "      <td>6 Bedroom</td>\n",
       "      <td>1020.0</td>\n",
       "      <td>6.0</td>\n",
       "      <td>370.0</td>\n",
       "      <td>6</td>\n",
       "      <td>36274</td>\n",
       "    </tr>\n",
       "    <tr>\n",
       "      <th>45</th>\n",
       "      <td>HSR Layout</td>\n",
       "      <td>8 Bedroom</td>\n",
       "      <td>600.0</td>\n",
       "      <td>9.0</td>\n",
       "      <td>200.0</td>\n",
       "      <td>8</td>\n",
       "      <td>33333</td>\n",
       "    </tr>\n",
       "    <tr>\n",
       "      <th>190</th>\n",
       "      <td>Bellandur</td>\n",
       "      <td>4 Bedroom</td>\n",
       "      <td>1200.0</td>\n",
       "      <td>5.0</td>\n",
       "      <td>325.0</td>\n",
       "      <td>4</td>\n",
       "      <td>27083</td>\n",
       "    </tr>\n",
       "    <tr>\n",
       "      <th>733</th>\n",
       "      <td>Cunningham Road</td>\n",
       "      <td>4 BHK</td>\n",
       "      <td>5270.0</td>\n",
       "      <td>4.0</td>\n",
       "      <td>1250.0</td>\n",
       "      <td>4</td>\n",
       "      <td>23719</td>\n",
       "    </tr>\n",
       "    <tr>\n",
       "      <th>760</th>\n",
       "      <td>other</td>\n",
       "      <td>9 Bedroom</td>\n",
       "      <td>600.0</td>\n",
       "      <td>9.0</td>\n",
       "      <td>190.0</td>\n",
       "      <td>9</td>\n",
       "      <td>31666</td>\n",
       "    </tr>\n",
       "    <tr>\n",
       "      <th>...</th>\n",
       "      <td>...</td>\n",
       "      <td>...</td>\n",
       "      <td>...</td>\n",
       "      <td>...</td>\n",
       "      <td>...</td>\n",
       "      <td>...</td>\n",
       "      <td>...</td>\n",
       "    </tr>\n",
       "    <tr>\n",
       "      <th>13081</th>\n",
       "      <td>other</td>\n",
       "      <td>6 Bedroom</td>\n",
       "      <td>8000.0</td>\n",
       "      <td>6.0</td>\n",
       "      <td>2800.0</td>\n",
       "      <td>6</td>\n",
       "      <td>35000</td>\n",
       "    </tr>\n",
       "    <tr>\n",
       "      <th>13094</th>\n",
       "      <td>other</td>\n",
       "      <td>4 Bedroom</td>\n",
       "      <td>1200.0</td>\n",
       "      <td>5.0</td>\n",
       "      <td>325.0</td>\n",
       "      <td>4</td>\n",
       "      <td>27083</td>\n",
       "    </tr>\n",
       "    <tr>\n",
       "      <th>13127</th>\n",
       "      <td>other</td>\n",
       "      <td>4 Bedroom</td>\n",
       "      <td>1200.0</td>\n",
       "      <td>5.0</td>\n",
       "      <td>325.0</td>\n",
       "      <td>4</td>\n",
       "      <td>27083</td>\n",
       "    </tr>\n",
       "    <tr>\n",
       "      <th>13185</th>\n",
       "      <td>Hulimavu</td>\n",
       "      <td>1 BHK</td>\n",
       "      <td>500.0</td>\n",
       "      <td>1.0</td>\n",
       "      <td>220.0</td>\n",
       "      <td>1</td>\n",
       "      <td>44000</td>\n",
       "    </tr>\n",
       "    <tr>\n",
       "      <th>13186</th>\n",
       "      <td>other</td>\n",
       "      <td>4 Bedroom</td>\n",
       "      <td>1200.0</td>\n",
       "      <td>5.0</td>\n",
       "      <td>325.0</td>\n",
       "      <td>4</td>\n",
       "      <td>27083</td>\n",
       "    </tr>\n",
       "  </tbody>\n",
       "</table>\n",
       "<p>125 rows × 7 columns</p>\n",
       "</div>"
      ],
      "text/plain": [
       "              location       size  total_sqft  bath   price  bhk  \\\n",
       "9                other  6 Bedroom      1020.0   6.0   370.0    6   \n",
       "45          HSR Layout  8 Bedroom       600.0   9.0   200.0    8   \n",
       "190          Bellandur  4 Bedroom      1200.0   5.0   325.0    4   \n",
       "733    Cunningham Road      4 BHK      5270.0   4.0  1250.0    4   \n",
       "760              other  9 Bedroom       600.0   9.0   190.0    9   \n",
       "...                ...        ...         ...   ...     ...  ...   \n",
       "13081            other  6 Bedroom      8000.0   6.0  2800.0    6   \n",
       "13094            other  4 Bedroom      1200.0   5.0   325.0    4   \n",
       "13127            other  4 Bedroom      1200.0   5.0   325.0    4   \n",
       "13185         Hulimavu      1 BHK       500.0   1.0   220.0    1   \n",
       "13186            other  4 Bedroom      1200.0   5.0   325.0    4   \n",
       "\n",
       "       price_per_sqft  \n",
       "9               36274  \n",
       "45              33333  \n",
       "190             27083  \n",
       "733             23719  \n",
       "760             31666  \n",
       "...               ...  \n",
       "13081           35000  \n",
       "13094           27083  \n",
       "13127           27083  \n",
       "13185           44000  \n",
       "13186           27083  \n",
       "\n",
       "[125 rows x 7 columns]"
      ]
     },
     "execution_count": 27,
     "metadata": {},
     "output_type": "execute_result"
    }
   ],
   "source": [
    "df2[(df2.price_per_sqft>maxlimit)|(df2.price_per_sqft<minlimit)]"
   ]
  },
  {
   "cell_type": "code",
   "execution_count": 28,
   "id": "265ac092",
   "metadata": {},
   "outputs": [],
   "source": [
    "df3=df2[(df2.price_per_sqft<maxlimit)&(df2.price_per_sqft>minlimit)]"
   ]
  },
  {
   "cell_type": "code",
   "execution_count": 29,
   "id": "47763449",
   "metadata": {},
   "outputs": [
    {
     "name": "stdout",
     "output_type": "stream",
     "text": [
      "(13047, 7)\n"
     ]
    }
   ],
   "source": [
    "print(df3.shape)"
   ]
  },
  {
   "cell_type": "code",
   "execution_count": 30,
   "id": "1164d9a2",
   "metadata": {},
   "outputs": [
    {
     "data": {
      "text/plain": [
       "<AxesSubplot:xlabel='price_per_sqft', ylabel='Count'>"
      ]
     },
     "execution_count": 30,
     "metadata": {},
     "output_type": "execute_result"
    },
    {
     "data": {
      "image/png": "[encoded data removed]",
      "text/plain": [
       "<Figure size 640x480 with 1 Axes>"
      ]
     },
     "metadata": {},
     "output_type": "display_data"
    }
   ],
   "source": [
    "sn.histplot(df3.price_per_sqft, kde=True)"
   ]
  },
  {
   "cell_type": "code",
   "execution_count": 34,
   "id": "ebad5070",
   "metadata": {},
   "outputs": [
    {
     "name": "stderr",
     "output_type": "stream",
     "text": [
      "C:\\Users\\keyco\\AppData\\Local\\Temp\\ipykernel_5828\\774565148.py:3: SettingWithCopyWarning: \n",
      "A value is trying to be set on a copy of a slice from a DataFrame.\n",
      "Try using .loc[row_indexer,col_indexer] = value instead\n",
      "\n",
      "See the caveats in the documentation: https://pandas.pydata.org/pandas-docs/stable/user_guide/indexing.html#returning-a-view-versus-a-copy\n",
      "  df2['Zscore']=(df2.price_per_sqft-df2.price_per_sqft.mean())/df2.price_per_sqft.std()\n"
     ]
    },
    {
     "data": {
      "text/html": [
       "<div>\n",
       "<style scoped>\n",
       "    .dataframe tbody tr th:only-of-type {\n",
       "        vertical-align: middle;\n",
       "    }\n",
       "\n",
       "    .dataframe tbody tr th {\n",
       "        vertical-align: top;\n",
       "    }\n",
       "\n",
       "    .dataframe thead th {\n",
       "        text-align: right;\n",
       "    }\n",
       "</style>\n",
       "<table border=\"1\" class=\"dataframe\">\n",
       "  <thead>\n",
       "    <tr style=\"text-align: right;\">\n",
       "      <th></th>\n",
       "      <th>location</th>\n",
       "      <th>size</th>\n",
       "      <th>total_sqft</th>\n",
       "      <th>bath</th>\n",
       "      <th>price</th>\n",
       "      <th>bhk</th>\n",
       "      <th>price_per_sqft</th>\n",
       "      <th>Zscore</th>\n",
       "    </tr>\n",
       "  </thead>\n",
       "  <tbody>\n",
       "    <tr>\n",
       "      <th>10982</th>\n",
       "      <td>Mysore Road</td>\n",
       "      <td>3 BHK</td>\n",
       "      <td>1248.52</td>\n",
       "      <td>3.0</td>\n",
       "      <td>115.00</td>\n",
       "      <td>3</td>\n",
       "      <td>9210</td>\n",
       "      <td>0.614908</td>\n",
       "    </tr>\n",
       "    <tr>\n",
       "      <th>5029</th>\n",
       "      <td>other</td>\n",
       "      <td>3 BHK</td>\n",
       "      <td>1388.00</td>\n",
       "      <td>3.0</td>\n",
       "      <td>69.99</td>\n",
       "      <td>3</td>\n",
       "      <td>5042</td>\n",
       "      <td>-0.391607</td>\n",
       "    </tr>\n",
       "    <tr>\n",
       "      <th>2016</th>\n",
       "      <td>Green Glen Layout</td>\n",
       "      <td>3 BHK</td>\n",
       "      <td>1670.00</td>\n",
       "      <td>3.0</td>\n",
       "      <td>120.00</td>\n",
       "      <td>3</td>\n",
       "      <td>7185</td>\n",
       "      <td>0.125898</td>\n",
       "    </tr>\n",
       "    <tr>\n",
       "      <th>9627</th>\n",
       "      <td>other</td>\n",
       "      <td>4 Bedroom</td>\n",
       "      <td>4800.00</td>\n",
       "      <td>4.0</td>\n",
       "      <td>420.00</td>\n",
       "      <td>4</td>\n",
       "      <td>8750</td>\n",
       "      <td>0.503824</td>\n",
       "    </tr>\n",
       "    <tr>\n",
       "      <th>1349</th>\n",
       "      <td>Chandapura</td>\n",
       "      <td>3 BHK</td>\n",
       "      <td>1065.00</td>\n",
       "      <td>2.0</td>\n",
       "      <td>33.00</td>\n",
       "      <td>3</td>\n",
       "      <td>3098</td>\n",
       "      <td>-0.861057</td>\n",
       "    </tr>\n",
       "    <tr>\n",
       "      <th>8975</th>\n",
       "      <td>other</td>\n",
       "      <td>3 Bedroom</td>\n",
       "      <td>3000.00</td>\n",
       "      <td>3.0</td>\n",
       "      <td>550.00</td>\n",
       "      <td>3</td>\n",
       "      <td>18333</td>\n",
       "      <td>2.817988</td>\n",
       "    </tr>\n",
       "    <tr>\n",
       "      <th>3992</th>\n",
       "      <td>Rajaji Nagar</td>\n",
       "      <td>4 BHK</td>\n",
       "      <td>3436.00</td>\n",
       "      <td>6.0</td>\n",
       "      <td>500.00</td>\n",
       "      <td>4</td>\n",
       "      <td>14551</td>\n",
       "      <td>1.904687</td>\n",
       "    </tr>\n",
       "    <tr>\n",
       "      <th>5987</th>\n",
       "      <td>Thanisandra</td>\n",
       "      <td>4 BHK</td>\n",
       "      <td>2259.00</td>\n",
       "      <td>5.0</td>\n",
       "      <td>135.00</td>\n",
       "      <td>4</td>\n",
       "      <td>5976</td>\n",
       "      <td>-0.166059</td>\n",
       "    </tr>\n",
       "    <tr>\n",
       "      <th>8896</th>\n",
       "      <td>Chamrajpet</td>\n",
       "      <td>2 BHK</td>\n",
       "      <td>730.00</td>\n",
       "      <td>1.0</td>\n",
       "      <td>52.00</td>\n",
       "      <td>2</td>\n",
       "      <td>7123</td>\n",
       "      <td>0.110926</td>\n",
       "    </tr>\n",
       "    <tr>\n",
       "      <th>5490</th>\n",
       "      <td>Kanakpura Road</td>\n",
       "      <td>1 BHK</td>\n",
       "      <td>525.00</td>\n",
       "      <td>1.0</td>\n",
       "      <td>30.00</td>\n",
       "      <td>1</td>\n",
       "      <td>5714</td>\n",
       "      <td>-0.229328</td>\n",
       "    </tr>\n",
       "  </tbody>\n",
       "</table>\n",
       "</div>"
      ],
      "text/plain": [
       "                location       size  total_sqft  bath   price  bhk  \\\n",
       "10982        Mysore Road      3 BHK     1248.52   3.0  115.00    3   \n",
       "5029               other      3 BHK     1388.00   3.0   69.99    3   \n",
       "2016   Green Glen Layout      3 BHK     1670.00   3.0  120.00    3   \n",
       "9627               other  4 Bedroom     4800.00   4.0  420.00    4   \n",
       "1349          Chandapura      3 BHK     1065.00   2.0   33.00    3   \n",
       "8975               other  3 Bedroom     3000.00   3.0  550.00    3   \n",
       "3992        Rajaji Nagar      4 BHK     3436.00   6.0  500.00    4   \n",
       "5987         Thanisandra      4 BHK     2259.00   5.0  135.00    4   \n",
       "8896          Chamrajpet      2 BHK      730.00   1.0   52.00    2   \n",
       "5490      Kanakpura Road      1 BHK      525.00   1.0   30.00    1   \n",
       "\n",
       "       price_per_sqft    Zscore  \n",
       "10982            9210  0.614908  \n",
       "5029             5042 -0.391607  \n",
       "2016             7185  0.125898  \n",
       "9627             8750  0.503824  \n",
       "1349             3098 -0.861057  \n",
       "8975            18333  2.817988  \n",
       "3992            14551  1.904687  \n",
       "5987             5976 -0.166059  \n",
       "8896             7123  0.110926  \n",
       "5490             5714 -0.229328  "
      ]
     },
     "execution_count": 34,
     "metadata": {},
     "output_type": "execute_result"
    }
   ],
   "source": [
    "#3.outlierZ-Score\n",
    "\n",
    "df2['Zscore']=(df2.price_per_sqft-df2.price_per_sqft.mean())/df2.price_per_sqft.std()\n",
    "df2.sample(10)"
   ]
  },
  {
   "cell_type": "code",
   "execution_count": 37,
   "id": "06b37188",
   "metadata": {},
   "outputs": [
    {
     "data": {
      "text/plain": [
       "(125, 8)"
      ]
     },
     "execution_count": 37,
     "metadata": {},
     "output_type": "execute_result"
    }
   ],
   "source": [
    "outlier_z=df2[(df2.Zscore<-4)|(df2.Zscore>4)]\n",
    "outlier_z.shape"
   ]
  },
  {
   "cell_type": "code",
   "execution_count": 39,
   "id": "22917a3e",
   "metadata": {},
   "outputs": [
    {
     "name": "stdout",
     "output_type": "stream",
     "text": [
      "(13047, 8)\n"
     ]
    }
   ],
   "source": [
    "df4=df2[(df2.Zscore>-4)&(df2.Zscore<4)]\n",
    "print(df4.shape)"
   ]
  },
  {
   "cell_type": "code",
   "execution_count": null,
   "id": "4f76ed17",
   "metadata": {},
   "outputs": [],
   "source": []
  }
 ],
 "metadata": {
  "kernelspec": {
   "display_name": "Python 3 (ipykernel)",
   "language": "python",
   "name": "python3"
  },
  "language_info": {
   "codemirror_mode": {
    "name": "ipython",
    "version": 3
   },
   "file_extension": ".py",
   "mimetype": "text/x-python",
   "name": "python",
   "nbconvert_exporter": "python",
   "pygments_lexer": "ipython3",
   "version": "3.9.13"
  }
 },
 "nbformat": 4,
 "nbformat_minor": 5
}
