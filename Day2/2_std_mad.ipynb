{
 "cells": [
  {
   "cell_type": "code",
   "execution_count": 6,
   "id": "f41d89ae",
   "metadata": {
    "scrolled": true
   },
   "outputs": [
    {
     "name": "stdout",
     "output_type": "stream",
     "text": [
      "     Name  Score\n",
      "0   Mohan     75\n",
      "1  Andrea     72\n",
      "2   Sofia     68\n",
      "3     Joe     65\n",
      "4   Virat     67\n",
      "5   Abdul     73\n",
      "70.0\n"
     ]
    }
   ],
   "source": [
    "import pandas as pd\n",
    "df1 = pd.DataFrame({\"Name\":[\"Mohan\",\"Andrea\",\"Sofia\",\"Joe\",\"Virat\",\"Abdul\"],\n",
    "                   \"Score\" : [75,72,68,65,67,73]})\n",
    "print(df1)\n",
    "mean  = df1[\"Score\"].mean()\n",
    "print(mean)"
   ]
  },
  {
   "cell_type": "code",
   "execution_count": 11,
   "id": "9d6d4b2f",
   "metadata": {},
   "outputs": [
    {
     "name": "stdout",
     "output_type": "stream",
     "text": [
      "     Name  Score  Abs\n",
      "0   Mohan     75  5.0\n",
      "1  Andrea     72  2.0\n",
      "2   Sofia     68  2.0\n",
      "3     Joe     65  5.0\n",
      "4   Virat     67  3.0\n",
      "5   Abdul     73  3.0\n",
      "3.3333333333333335\n"
     ]
    }
   ],
   "source": [
    "# Mean Absolute deviation : MAD\n",
    "df1[\"Abs\"] = abs(df1[\"Score\"] - mean)\n",
    "print(df1)\n",
    "MAD = (sum(df1[\"Abs\"])/len(df1))\n",
    "print(MAD)\n",
    "# data points are closer to mean point "
   ]
  },
  {
   "cell_type": "code",
   "execution_count": 15,
   "id": "bf0e454b",
   "metadata": {},
   "outputs": [
    {
     "name": "stdout",
     "output_type": "stream",
     "text": [
      "     Name  Score\n",
      "0   Mohan     80\n",
      "1  Andrea     70\n",
      "2   Sofia     70\n",
      "3     Joe     63\n",
      "4   Virat     70\n",
      "5   Abdul     70\n",
      "70.5\n"
     ]
    }
   ],
   "source": [
    "import pandas as pd\n",
    "df1 = pd.DataFrame({\"Name\":[\"Mohan\",\"Andrea\",\"Sofia\",\"Joe\",\"Virat\",\"Abdul\"],\n",
    "                   \"Score\" : [80,70,70,63,70,70]})\n",
    "print(df1)\n",
    "mean  = df1[\"Score\"].mean()\n",
    "print(mean)"
   ]
  },
  {
   "cell_type": "code",
   "execution_count": 16,
   "id": "a631abb4",
   "metadata": {},
   "outputs": [
    {
     "name": "stdout",
     "output_type": "stream",
     "text": [
      "     Name  Score  Abs\n",
      "0   Mohan     80  9.5\n",
      "1  Andrea     70  0.5\n",
      "2   Sofia     70  0.5\n",
      "3     Joe     63  7.5\n",
      "4   Virat     70  0.5\n",
      "5   Abdul     70  0.5\n",
      "3.1666666666666665\n"
     ]
    }
   ],
   "source": [
    "# Mean Absolute deviation : MAD\n",
    "df1[\"Abs\"] = abs(df1[\"Score\"] - mean)\n",
    "print(df1)\n",
    "MAD = (sum(df1[\"Abs\"])/len(df1))\n",
    "print(MAD)\n",
    "# data points are far to mean point "
   ]
  },
  {
   "cell_type": "code",
   "execution_count": 19,
   "id": "061bd672",
   "metadata": {},
   "outputs": [
    {
     "name": "stdout",
     "output_type": "stream",
     "text": [
      "     Name  Score\n",
      "0   Mohan     75\n",
      "1  Andrea     72\n",
      "2   Sofia     68\n",
      "3     Joe     65\n",
      "4   Virat     67\n",
      "5   Abdul     73\n",
      "12.666666666666666 3.559026084010437\n"
     ]
    }
   ],
   "source": [
    "# Standard Deviation \n",
    "\n",
    "import pandas as pd\n",
    "import numpy as np\n",
    "df1 = pd.DataFrame({\"Name\":[\"Mohan\",\"Andrea\",\"Sofia\",\"Joe\",\"Virat\",\"Abdul\"],\n",
    "                   \"Score\" : [75,72,68,65,67,73]})\n",
    "print(df1)\n",
    "mean  = df1[\"Score\"].mean()\n",
    "df1[\"Abs\"] = df1['Score'] - mean\n",
    "# print(mean)\n",
    "df1[\"Abs^2\"] = df1[\"Abs\"]**2\n",
    "mean = df1[\"Abs^2\"].mean()\n",
    "sqmean = np.sqrt(mean)\n",
    "print(mean, sqmean )"
   ]
  },
  {
   "cell_type": "code",
   "execution_count": 21,
   "id": "1428a44d",
   "metadata": {},
   "outputs": [
    {
     "name": "stdout",
     "output_type": "stream",
     "text": [
      "     Name  Score\n",
      "0   Mohan     83\n",
      "1  Andrea     70\n",
      "2   Sofia     70\n",
      "3     Joe     63\n",
      "4   Virat     70\n",
      "5   Abdul     70\n",
      "35.333333333333336 5.94418483337567\n"
     ]
    }
   ],
   "source": [
    "import pandas as pd\n",
    "df1 = pd.DataFrame({\"Name\":[\"Mohan\",\"Andrea\",\"Sofia\",\"Joe\",\"Virat\",\"Abdul\"],\n",
    "                   \"Score\" : [83,70,70,63,70,70]})\n",
    "print(df1)\n",
    "mean  = df1[\"Score\"].mean()\n",
    "mean  = df1[\"Score\"].mean()\n",
    "df1[\"Abs\"] = df1['Score'] - mean\n",
    "# print(mean)\n",
    "df1[\"Abs^2\"] = df1[\"Abs\"]**2\n",
    "mean = df1[\"Abs^2\"].mean()\n",
    "sqmean = np.sqrt(mean)\n",
    "print(mean, sqmean )"
   ]
  },
  {
   "cell_type": "code",
   "execution_count": null,
   "id": "8813af0a",
   "metadata": {},
   "outputs": [],
   "source": []
  }
 ],
 "metadata": {
  "kernelspec": {
   "display_name": "Python 3 (ipykernel)",
   "language": "python",
   "name": "python3"
  },
  "language_info": {
   "codemirror_mode": {
    "name": "ipython",
    "version": 3
   },
   "file_extension": ".py",
   "mimetype": "text/x-python",
   "name": "python",
   "nbconvert_exporter": "python",
   "pygments_lexer": "ipython3",
   "version": "3.9.13"
  }
 },
 "nbformat": 4,
 "nbformat_minor": 5
}
